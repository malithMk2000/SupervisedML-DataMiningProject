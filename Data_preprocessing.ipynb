{
  "nbformat": 4,
  "nbformat_minor": 0,
  "metadata": {
    "colab": {
      "provenance": []
    },
    "kernelspec": {
      "name": "python3",
      "display_name": "Python 3"
    },
    "language_info": {
      "name": "python"
    }
  },
  "cells": [
    {
      "cell_type": "code",
      "execution_count": 1,
      "metadata": {
        "colab": {
          "base_uri": "https://localhost:8080/"
        },
        "id": "QSWK1ylYZFI0",
        "outputId": "f169cc94-d14b-48b2-8186-d463cb86649c"
      },
      "outputs": [
        {
          "output_type": "stream",
          "name": "stdout",
          "text": [
            "Mounted at /content/drive\n"
          ]
        }
      ],
      "source": [
        "from google.colab import drive\n",
        "drive.mount('/content/drive')"
      ]
    },
    {
      "cell_type": "code",
      "source": [
        "import pandas as pd\n",
        "import numpy as np\n",
        "from sklearn.impute import SimpleImputer\n",
        "from sklearn.preprocessing import StandardScaler\n",
        "from scipy.stats import zscore"
      ],
      "metadata": {
        "id": "NThNmiugZgub"
      },
      "execution_count": 2,
      "outputs": []
    },
    {
      "cell_type": "code",
      "source": [
        "file_path = '/content/drive/MyDrive/water_potability.csv'\n",
        "df = pd.read_csv(file_path)"
      ],
      "metadata": {
        "id": "J3AfoBEHZlwI"
      },
      "execution_count": 3,
      "outputs": []
    },
    {
      "cell_type": "code",
      "source": [
        "print(\"First few rows of the dataset:\")\n",
        "print(df.head())\n",
        "print(\"\\nDataset summary:\")\n",
        "print(df.info())\n",
        "print(\"\\nCheck for missing values:\")\n",
        "print(df.isnull().sum())"
      ],
      "metadata": {
        "colab": {
          "base_uri": "https://localhost:8080/"
        },
        "id": "CU7UPUL3Zvf1",
        "outputId": "0d68f5d8-085c-4e0f-d557-211038f1723c"
      },
      "execution_count": 4,
      "outputs": [
        {
          "output_type": "stream",
          "name": "stdout",
          "text": [
            "First few rows of the dataset:\n",
            "         ph    Hardness        Solids  Chloramines     Sulfate  Conductivity  \\\n",
            "0       NaN  204.890455  20791.318981     7.300212  368.516441    564.308654   \n",
            "1  3.716080  129.422921  18630.057858     6.635246         NaN    592.885359   \n",
            "2  8.099124  224.236259  19909.541732     9.275884         NaN    418.606213   \n",
            "3  8.316766  214.373394  22018.417441     8.059332  356.886136    363.266516   \n",
            "4  9.092223  181.101509  17978.986339     6.546600  310.135738    398.410813   \n",
            "\n",
            "   Organic_carbon  Trihalomethanes  Turbidity  Potability  \n",
            "0       10.379783        86.990970   2.963135           0  \n",
            "1       15.180013        56.329076   4.500656           0  \n",
            "2       16.868637        66.420093   3.055934           0  \n",
            "3       18.436524       100.341674   4.628771           0  \n",
            "4       11.558279        31.997993   4.075075           0  \n",
            "\n",
            "Dataset summary:\n",
            "<class 'pandas.core.frame.DataFrame'>\n",
            "RangeIndex: 3276 entries, 0 to 3275\n",
            "Data columns (total 10 columns):\n",
            " #   Column           Non-Null Count  Dtype  \n",
            "---  ------           --------------  -----  \n",
            " 0   ph               2785 non-null   float64\n",
            " 1   Hardness         3276 non-null   float64\n",
            " 2   Solids           3276 non-null   float64\n",
            " 3   Chloramines      3276 non-null   float64\n",
            " 4   Sulfate          2495 non-null   float64\n",
            " 5   Conductivity     3276 non-null   float64\n",
            " 6   Organic_carbon   3276 non-null   float64\n",
            " 7   Trihalomethanes  3114 non-null   float64\n",
            " 8   Turbidity        3276 non-null   float64\n",
            " 9   Potability       3276 non-null   int64  \n",
            "dtypes: float64(9), int64(1)\n",
            "memory usage: 256.1 KB\n",
            "None\n",
            "\n",
            "Check for missing values:\n",
            "ph                 491\n",
            "Hardness             0\n",
            "Solids               0\n",
            "Chloramines          0\n",
            "Sulfate            781\n",
            "Conductivity         0\n",
            "Organic_carbon       0\n",
            "Trihalomethanes    162\n",
            "Turbidity            0\n",
            "Potability           0\n",
            "dtype: int64\n"
          ]
        }
      ]
    },
    {
      "cell_type": "code",
      "source": [
        "# Count duplicate rows in the dataframe\n",
        "duplicates = df.duplicated().sum()\n",
        "print(f\"\\nNumber of duplicate rows: {duplicates}\")\n",
        "\n",
        "# Remove duplicate rows if any exist\n",
        "if duplicates > 0:\n",
        "    df = df.drop_duplicates()\n",
        "    print(f\"{duplicates} duplicate rows removed.\")\n"
      ],
      "metadata": {
        "colab": {
          "base_uri": "https://localhost:8080/"
        },
        "id": "JzjWluevZ08q",
        "outputId": "4b231164-c104-4939-9e39-679e36fb0949"
      },
      "execution_count": 5,
      "outputs": [
        {
          "output_type": "stream",
          "name": "stdout",
          "text": [
            "\n",
            "Number of duplicate rows: 0\n"
          ]
        }
      ]
    },
    {
      "cell_type": "code",
      "source": [
        "imputer = SimpleImputer(strategy='mean')\n",
        "df_imputed = pd.DataFrame(imputer.fit_transform(df), columns=df.columns)\n",
        "print(\"\\nMissing values after imputation:\")\n",
        "print(df_imputed.isnull().sum())"
      ],
      "metadata": {
        "colab": {
          "base_uri": "https://localhost:8080/"
        },
        "id": "1T3QolTRaIKm",
        "outputId": "5f377c85-7df0-4e5f-a2b0-964d2f85d78c"
      },
      "execution_count": 6,
      "outputs": [
        {
          "output_type": "stream",
          "name": "stdout",
          "text": [
            "\n",
            "Missing values after imputation:\n",
            "ph                 0\n",
            "Hardness           0\n",
            "Solids             0\n",
            "Chloramines        0\n",
            "Sulfate            0\n",
            "Conductivity       0\n",
            "Organic_carbon     0\n",
            "Trihalomethanes    0\n",
            "Turbidity          0\n",
            "Potability         0\n",
            "dtype: int64\n"
          ]
        }
      ]
    },
    {
      "cell_type": "code",
      "source": [
        "scaler = StandardScaler()\n",
        "scaled_features = scaler.fit_transform(df_imputed.iloc[:, :-1])\n",
        "df_scaled = pd.DataFrame(scaled_features, columns=df_imputed.columns[:-1])\n",
        "df_scaled['Potability'] = df_imputed['Potability']\n",
        "print(\"\\nScaled data preview:\")\n",
        "print(df_scaled.head())"
      ],
      "metadata": {
        "colab": {
          "base_uri": "https://localhost:8080/"
        },
        "id": "iIERzAkfaV35",
        "outputId": "9f882832-17c7-4829-81f5-40ac5e659843"
      },
      "execution_count": 7,
      "outputs": [
        {
          "output_type": "stream",
          "name": "stdout",
          "text": [
            "\n",
            "Scaled data preview:\n",
            "             ph  Hardness    Solids  Chloramines       Sulfate  Conductivity  \\\n",
            "0 -6.043133e-16  0.259195 -0.139471     0.112415  9.613574e-01      1.708954   \n",
            "1 -2.289339e+00 -2.036414 -0.385987    -0.307694  3.145987e-15      2.062575   \n",
            "2  6.928678e-01  0.847665 -0.240047     1.360594  3.145987e-15     -0.094032   \n",
            "3  8.409504e-01  0.547651  0.000493     0.592008  6.395190e-01     -0.778830   \n",
            "4  1.368569e+00 -0.464429 -0.460249    -0.363698 -6.541765e-01     -0.343939   \n",
            "\n",
            "   Organic_carbon  Trihalomethanes  Turbidity  Potability  \n",
            "0       -1.180651         1.306149  -1.286298         0.0  \n",
            "1        0.270597        -0.638480   0.684218         0.0  \n",
            "2        0.781117         0.001509  -1.167365         0.0  \n",
            "3        1.255134         2.152874   0.848412         0.0  \n",
            "4       -0.824357        -2.181599   0.138786         0.0  \n"
          ]
        }
      ]
    },
    {
      "cell_type": "code",
      "source": [
        "correlation_matrix= df_scaled.corr()\n",
        "print(\"\\nCorrelationmatrix:\")\n",
        "print(correlation_matrix)"
      ],
      "metadata": {
        "colab": {
          "base_uri": "https://localhost:8080/"
        },
        "id": "GEZ57jaGabAZ",
        "outputId": "825bb2d1-cb82-41dd-f5bc-637dad466263"
      },
      "execution_count": 8,
      "outputs": [
        {
          "output_type": "stream",
          "name": "stdout",
          "text": [
            "\n",
            "Correlationmatrix:\n",
            "                       ph  Hardness    Solids  Chloramines   Sulfate  \\\n",
            "ph               1.000000  0.075833 -0.081884    -0.031811  0.014403   \n",
            "Hardness         0.075833  1.000000 -0.046899    -0.030054 -0.092766   \n",
            "Solids          -0.081884 -0.046899  1.000000    -0.070148 -0.149840   \n",
            "Chloramines     -0.031811 -0.030054 -0.070148     1.000000  0.023791   \n",
            "Sulfate          0.014403 -0.092766 -0.149840     0.023791  1.000000   \n",
            "Conductivity     0.017192 -0.023915  0.013831    -0.020486 -0.014059   \n",
            "Organic_carbon   0.040061  0.003610  0.010242    -0.012653  0.026909   \n",
            "Trihalomethanes  0.002994 -0.012690 -0.008875     0.016627 -0.025605   \n",
            "Turbidity       -0.036222 -0.014449  0.019546     0.002363 -0.009790   \n",
            "Potability      -0.003287 -0.013837  0.033743     0.023779 -0.020619   \n",
            "\n",
            "                 Conductivity  Organic_carbon  Trihalomethanes  Turbidity  \\\n",
            "ph                   0.017192        0.040061         0.002994  -0.036222   \n",
            "Hardness            -0.023915        0.003610        -0.012690  -0.014449   \n",
            "Solids               0.013831        0.010242        -0.008875   0.019546   \n",
            "Chloramines         -0.020486       -0.012653         0.016627   0.002363   \n",
            "Sulfate             -0.014059        0.026909        -0.025605  -0.009790   \n",
            "Conductivity         1.000000        0.020966         0.001255   0.005798   \n",
            "Organic_carbon       0.020966        1.000000        -0.012976  -0.027308   \n",
            "Trihalomethanes      0.001255       -0.012976         1.000000  -0.021502   \n",
            "Turbidity            0.005798       -0.027308        -0.021502   1.000000   \n",
            "Potability          -0.008128       -0.030001         0.006960   0.001581   \n",
            "\n",
            "                 Potability  \n",
            "ph                -0.003287  \n",
            "Hardness          -0.013837  \n",
            "Solids             0.033743  \n",
            "Chloramines        0.023779  \n",
            "Sulfate           -0.020619  \n",
            "Conductivity      -0.008128  \n",
            "Organic_carbon    -0.030001  \n",
            "Trihalomethanes    0.006960  \n",
            "Turbidity          0.001581  \n",
            "Potability         1.000000  \n"
          ]
        }
      ]
    },
    {
      "cell_type": "code",
      "source": [
        "z_scores= np.abs(zscore(df_scaled.iloc[:,:-1]))\n",
        "outliers= (z_scores >3).any(axis=1)\n",
        "print(f\"\\nNumberof outliersdetected:{outliers.sum()}\")"
      ],
      "metadata": {
        "colab": {
          "base_uri": "https://localhost:8080/"
        },
        "id": "QCMQZUgWahEV",
        "outputId": "b7c2453f-1631-4c0c-a5f4-b0fdac68783f"
      },
      "execution_count": 9,
      "outputs": [
        {
          "output_type": "stream",
          "name": "stdout",
          "text": [
            "\n",
            "Numberof outliersdetected:148\n"
          ]
        }
      ]
    },
    {
      "cell_type": "code",
      "source": [
        "output_path = '/content/drive/MyDrive/water_potability_preprocessed.csv'\n",
        "df_scaled.to_csv(output_path, index=False)"
      ],
      "metadata": {
        "id": "7eX53YHmaqMk"
      },
      "execution_count": null,
      "outputs": []
    }
  ]
}